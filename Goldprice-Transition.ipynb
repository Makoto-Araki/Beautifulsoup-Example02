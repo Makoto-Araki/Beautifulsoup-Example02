{
 "cells": [
  {
   "cell_type": "markdown",
   "metadata": {},
   "source": [
    "# 金価格推移\n",
    "田中貴金属(株)の [**HP**](https://gold.tanaka.co.jp/commodity/souba/d-gold.php) から金価格の推移を JupyterNotebook で取得\n",
    "![金価格推移](./Goldprice-Transition.png)"
   ]
  },
  {
   "cell_type": "code",
   "execution_count": 3,
   "metadata": {},
   "outputs": [
    {
     "name": "stdout",
     "output_type": "stream",
     "text": [
      "日付: 09.05  店頭買取価格(税込み): 8,429\n",
      "日付: 09.02  店頭買取価格(税込み): 8,348\n",
      "日付: 09.01  店頭買取価格(税込み): 8,367\n",
      "日付: 08.31  店頭買取価格(税込み): 8,392\n",
      "日付: 08.30  店頭買取価格(税込み): 8,463\n",
      "日付: 08.29  店頭買取価格(税込み): 8,428\n",
      "日付: 08.26  店頭買取価格(税込み): 8,423\n",
      "日付: 08.25  店頭買取価格(税込み): 8,436\n",
      "日付: 08.24  店頭買取価格(税込み): 8,403\n",
      "日付: 08.23  店頭買取価格(税込み): 8,404\n",
      "日付: 08.22  店頭買取価格(税込み): 8,417\n",
      "日付: 08.19  店頭買取価格(税込み): 8,409\n",
      "日付: 08.18  店頭買取価格(税込み): 8,374\n",
      "日付: 08.17  店頭買取価格(税込み): 8,385\n",
      "日付: 08.16  店頭買取価格(税込み): 8,322\n",
      "日付: 08.15  店頭買取価格(税込み): 8,432\n",
      "日付: 08.12  店頭買取価格(税込み): 8,375\n",
      "日付: 08.10  店頭買取価格(税込み): 8,521\n",
      "日付: 08.09  店頭買取価格(税込み): 8,480\n",
      "日付: 08.08  店頭買取価格(税込み): 8,433\n",
      "日付: 08.05  店頭買取価格(税込み): 8,378\n",
      "日付: 08.04  店頭買取価格(税込み): 8,303\n",
      "日付: 08.03  店頭買取価格(税込み): 8,264\n",
      "日付: 08.02  店頭買取価格(税込み): 8,168\n",
      "日付: 08.01  店頭買取価格(税込み): 8,236\n",
      "日付: 07.29  店頭買取価格(税込み): 8,298\n",
      "日付: 07.28  店頭買取価格(税込み): 8,329\n",
      "日付: 07.27  店頭買取価格(税込み): 8,271\n",
      "日付: 07.26  店頭買取価格(税込み): 8,245\n",
      "日付: 07.25  店頭買取価格(税込み): 8,271\n"
     ]
    }
   ],
   "source": [
    "# ライブラリのインポート\n",
    "import requests\n",
    "from bs4 import BeautifulSoup\n",
    "\n",
    "# リクエスト送信\n",
    "url = 'https://gold.tanaka.co.jp/commodity/souba/d-gold.php'\n",
    "res = requests.get(url)\n",
    "\n",
    "# レスポンス解析\n",
    "parser = 'html.parser'\n",
    "soup = BeautifulSoup(res.text, parser)\n",
    "\n",
    "# 店頭買取価格(税込み)の推移を取得\n",
    "records = soup.select('#price_trends_day table tr')\n",
    "\n",
    "# 各日付と店頭買取価格(税込み)を抽出\n",
    "for record in records:\n",
    "    if (record.select('.date')[0].string != '月日'):\n",
    "        var1 = record.select('.date')[0].string\n",
    "        var2 = record.select('.purchase_tax')[0].string\n",
    "        print(f'日付: {var1}  店頭買取価格(税込み): {var2}')"
   ]
  }
 ],
 "metadata": {
  "kernelspec": {
   "display_name": "Python 3",
   "language": "python",
   "name": "python3"
  },
  "language_info": {
   "codemirror_mode": {
    "name": "ipython",
    "version": 3
   },
   "file_extension": ".py",
   "mimetype": "text/x-python",
   "name": "python",
   "nbconvert_exporter": "python",
   "pygments_lexer": "ipython3",
   "version": "3.8.3"
  }
 },
 "nbformat": 4,
 "nbformat_minor": 4
}
